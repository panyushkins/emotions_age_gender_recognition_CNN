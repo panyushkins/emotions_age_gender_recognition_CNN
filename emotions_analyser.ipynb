{
 "cells": [
  {
   "cell_type": "code",
   "execution_count": 131,
   "metadata": {
    "collapsed": true
   },
   "outputs": [],
   "source": [
    "import os\n",
    "import imageio"
   ]
  },
  {
   "cell_type": "code",
   "execution_count": 132,
   "metadata": {},
   "outputs": [
    {
     "data": {
      "text/html": [
       "<script>requirejs.config({paths: { 'plotly': ['https://cdn.plot.ly/plotly-latest.min']},});if(!window.Plotly) {{require(['plotly'],function(plotly) {window.Plotly=plotly;});}}</script>"
      ],
      "text/vnd.plotly.v1+html": [
       "<script>requirejs.config({paths: { 'plotly': ['https://cdn.plot.ly/plotly-latest.min']},});if(!window.Plotly) {{require(['plotly'],function(plotly) {window.Plotly=plotly;});}}</script>"
      ]
     },
     "metadata": {},
     "output_type": "display_data"
    }
   ],
   "source": [
    "import pandas as pd\n",
    "import numpy as np\n",
    "\n",
    "from plotly import __version__\n",
    "from plotly.offline import download_plotlyjs, init_notebook_mode, plot, iplot\n",
    "from plotly.graph_objs import Scatter, Figure, Layout\n",
    "import plotly.graph_objs as go\n",
    "import plotly.plotly as py\n",
    "from plotly.plotly import image as p_image\n",
    "\n",
    "%matplotlib inline\n",
    "init_notebook_mode(connected=True)"
   ]
  },
  {
   "cell_type": "markdown",
   "metadata": {},
   "source": [
    "# Data"
   ]
  },
  {
   "cell_type": "code",
   "execution_count": 140,
   "metadata": {
    "collapsed": true
   },
   "outputs": [],
   "source": [
    "import os\n",
    "reactions_df = pd.DataFrame()\n",
    "for filename in os.listdir('./result_emotions/'):\n",
    "    reaction_df = pd.read_csv('./result_emotions/' + filename)\n",
    "    reaction_df['id'] = filename\n",
    "    reaction_df['time_second'] = [x.split('.')[0] for x in reaction_df['time'].astype('str').values]\n",
    "    reaction_df['time_second'] = reaction_df['time_second'].astype('int')\n",
    "    reactions_df = reactions_df.append(reaction_df)"
   ]
  },
  {
   "cell_type": "code",
   "execution_count": 144,
   "metadata": {},
   "outputs": [],
   "source": [
    "nrd = pd.DataFrame()\n",
    "for id_f, frame_df in reactions_df.groupby(['id']):\n",
    "    f_df = frame_df.copy()\n",
    "    \n",
    "    f_df_sec = f_df.groupby(['id', 'time_second'], as_index = False)['reaction'].agg(lambda x:x.value_counts().index[0])\n",
    "    f_df_sec = f_df_sec.merge(f_df[['id',  'gender', 'time_second', 'reaction', 'reaction_tense']], on = ['id', 'time_second', 'reaction']).groupby(['id',  'gender', 'time_second', 'reaction'], as_index = False)['reaction_tense'].mean()\n",
    "    \n",
    "    f_df_sec = f_df_sec.tail(69)\n",
    "    f_df_sec.time_second = range(f_df_sec.shape[0])\n",
    "    \n",
    "    nrd = nrd.append(f_df_sec)"
   ]
  },
  {
   "cell_type": "markdown",
   "metadata": {},
   "source": [
    "# Visualize"
   ]
  },
  {
   "cell_type": "code",
   "execution_count": 146,
   "metadata": {
    "collapsed": true
   },
   "outputs": [],
   "source": [
    "reaction_df = nrd.copy() # reaction_df_sec.copy()"
   ]
  },
  {
   "cell_type": "code",
   "execution_count": 147,
   "metadata": {
    "collapsed": true
   },
   "outputs": [],
   "source": [
    "# settings\n",
    "max_second = reaction_df.time_second.max()\n",
    "first_second = reaction_df_sec.shape[0]"
   ]
  },
  {
   "cell_type": "code",
   "execution_count": 152,
   "metadata": {
    "collapsed": true,
    "scrolled": true
   },
   "outputs": [],
   "source": [
    "# singe frame\n",
    "new_reaction_df = pd.DataFrame()\n",
    "for id_f, frame_df in reaction_df.groupby(['id']):\n",
    "    first_second = frame_df.shape[0]\n",
    "    frame_df = frame_df[:first_second].copy()\n",
    "    frame_df['graph_tense'] = frame_df['reaction_tense']\n",
    "    frame_df.loc[frame_df[frame_df.reaction == 'surprise'].index, 'reaction'] = 'neutral'\n",
    "    frame_df.loc[frame_df[frame_df.reaction == 'sad'].index, 'reaction'] = 'angry'\n",
    "    frame_df.loc[frame_df[frame_df.reaction == 'happy'].index, 'graph_tense'] = frame_df[frame_df.reaction == 'happy']['graph_tense'] * 33 + 66\n",
    "    frame_df.loc[frame_df[frame_df.reaction == 'neutral'].index, 'graph_tense'] = frame_df[frame_df.reaction == 'neutral']['graph_tense'] * 33 + 33\n",
    "    frame_df.loc[frame_df[frame_df.reaction == 'angry'].index, 'graph_tense'] = frame_df[frame_df.reaction == 'angry']['graph_tense'] * 33\n",
    "\n",
    "    new_reaction_df = new_reaction_df.append(frame_df)"
   ]
  },
  {
   "cell_type": "code",
   "execution_count": 153,
   "metadata": {
    "collapsed": true
   },
   "outputs": [],
   "source": [
    "new_reaction_df['id'] = new_reaction_df['id'].astype('str')\n",
    "new_reaction_df.reset_index(inplace=True, drop = True)"
   ]
  },
  {
   "cell_type": "code",
   "execution_count": 154,
   "metadata": {},
   "outputs": [
    {
     "data": {
      "text/html": [
       "<div>\n",
       "<style>\n",
       "    .dataframe thead tr:only-child th {\n",
       "        text-align: right;\n",
       "    }\n",
       "\n",
       "    .dataframe thead th {\n",
       "        text-align: left;\n",
       "    }\n",
       "\n",
       "    .dataframe tbody tr th {\n",
       "        vertical-align: top;\n",
       "    }\n",
       "</style>\n",
       "<table border=\"1\" class=\"dataframe\">\n",
       "  <thead>\n",
       "    <tr style=\"text-align: right;\">\n",
       "      <th></th>\n",
       "      <th>time_second</th>\n",
       "      <th>gender</th>\n",
       "      <th>graph_tense</th>\n",
       "      <th>reaction</th>\n",
       "      <th>color</th>\n",
       "    </tr>\n",
       "  </thead>\n",
       "  <tbody>\n",
       "    <tr>\n",
       "      <th>0</th>\n",
       "      <td>0</td>\n",
       "      <td>female</td>\n",
       "      <td>56.398291</td>\n",
       "      <td>neutral</td>\n",
       "      <td>rgb(166,28,0)</td>\n",
       "    </tr>\n",
       "    <tr>\n",
       "      <th>1</th>\n",
       "      <td>0</td>\n",
       "      <td>male</td>\n",
       "      <td>59.050990</td>\n",
       "      <td>neutral</td>\n",
       "      <td>rgb(17,56,117)</td>\n",
       "    </tr>\n",
       "    <tr>\n",
       "      <th>2</th>\n",
       "      <td>1</td>\n",
       "      <td>female</td>\n",
       "      <td>57.248429</td>\n",
       "      <td>neutral</td>\n",
       "      <td>rgb(166,28,0)</td>\n",
       "    </tr>\n",
       "    <tr>\n",
       "      <th>3</th>\n",
       "      <td>1</td>\n",
       "      <td>male</td>\n",
       "      <td>57.129029</td>\n",
       "      <td>neutral</td>\n",
       "      <td>rgb(17,56,117)</td>\n",
       "    </tr>\n",
       "    <tr>\n",
       "      <th>4</th>\n",
       "      <td>2</td>\n",
       "      <td>female</td>\n",
       "      <td>56.312193</td>\n",
       "      <td>neutral</td>\n",
       "      <td>rgb(166,28,0)</td>\n",
       "    </tr>\n",
       "  </tbody>\n",
       "</table>\n",
       "</div>"
      ],
      "text/plain": [
       "   time_second  gender  graph_tense reaction           color\n",
       "0            0  female    56.398291  neutral   rgb(166,28,0)\n",
       "1            0    male    59.050990  neutral  rgb(17,56,117)\n",
       "2            1  female    57.248429  neutral   rgb(166,28,0)\n",
       "3            1    male    57.129029  neutral  rgb(17,56,117)\n",
       "4            2  female    56.312193  neutral   rgb(166,28,0)"
      ]
     },
     "execution_count": 154,
     "metadata": {},
     "output_type": "execute_result"
    }
   ],
   "source": [
    "# male vs female\n",
    "new_reaction_df= new_reaction_df.groupby(['time_second', 'gender'], as_index=False)['graph_tense'].mean()\n",
    "new_reaction_df.loc[new_reaction_df[(new_reaction_df['graph_tense'] < 33)].index, 'reaction'] = 'angry'\n",
    "new_reaction_df.loc[new_reaction_df[(new_reaction_df['graph_tense'] >= 33) & (new_reaction_df['graph_tense'] < 66)].index, 'reaction'] = 'neutral'\n",
    "new_reaction_df.loc[new_reaction_df[(new_reaction_df['graph_tense'] >= 66)].index, 'reaction'] = 'happy'\n",
    "new_reaction_df.loc[new_reaction_df[new_reaction_df.gender == 'male'].index, 'color'] = 'rgb(17,56,117)'\n",
    "new_reaction_df.loc[new_reaction_df[new_reaction_df.gender == 'female'].index, 'color'] = 'rgb(166,28,0)'\n",
    "\n",
    "new_reaction_df.head()"
   ]
  },
  {
   "cell_type": "code",
   "execution_count": 128,
   "metadata": {
    "scrolled": true
   },
   "outputs": [
    {
     "data": {
      "text/html": [
       "<div>\n",
       "<style>\n",
       "    .dataframe thead tr:only-child th {\n",
       "        text-align: right;\n",
       "    }\n",
       "\n",
       "    .dataframe thead th {\n",
       "        text-align: left;\n",
       "    }\n",
       "\n",
       "    .dataframe tbody tr th {\n",
       "        vertical-align: top;\n",
       "    }\n",
       "</style>\n",
       "<table border=\"1\" class=\"dataframe\">\n",
       "  <thead>\n",
       "    <tr style=\"text-align: right;\">\n",
       "      <th></th>\n",
       "      <th>time_second</th>\n",
       "      <th>graph_tense</th>\n",
       "      <th>reaction</th>\n",
       "      <th>color</th>\n",
       "    </tr>\n",
       "  </thead>\n",
       "  <tbody>\n",
       "    <tr>\n",
       "      <th>0</th>\n",
       "      <td>0</td>\n",
       "      <td>58.166757</td>\n",
       "      <td>neutral</td>\n",
       "      <td>rgb(0, 0, 0)</td>\n",
       "    </tr>\n",
       "    <tr>\n",
       "      <th>1</th>\n",
       "      <td>1</td>\n",
       "      <td>57.168829</td>\n",
       "      <td>neutral</td>\n",
       "      <td>rgb(0, 0, 0)</td>\n",
       "    </tr>\n",
       "    <tr>\n",
       "      <th>2</th>\n",
       "      <td>2</td>\n",
       "      <td>56.051501</td>\n",
       "      <td>neutral</td>\n",
       "      <td>rgb(0, 0, 0)</td>\n",
       "    </tr>\n",
       "    <tr>\n",
       "      <th>3</th>\n",
       "      <td>3</td>\n",
       "      <td>56.240176</td>\n",
       "      <td>neutral</td>\n",
       "      <td>rgb(0, 0, 0)</td>\n",
       "    </tr>\n",
       "    <tr>\n",
       "      <th>4</th>\n",
       "      <td>4</td>\n",
       "      <td>56.085051</td>\n",
       "      <td>neutral</td>\n",
       "      <td>rgb(0, 0, 0)</td>\n",
       "    </tr>\n",
       "  </tbody>\n",
       "</table>\n",
       "</div>"
      ],
      "text/plain": [
       "   time_second  graph_tense reaction         color\n",
       "0            0    58.166757  neutral  rgb(0, 0, 0)\n",
       "1            1    57.168829  neutral  rgb(0, 0, 0)\n",
       "2            2    56.051501  neutral  rgb(0, 0, 0)\n",
       "3            3    56.240176  neutral  rgb(0, 0, 0)\n",
       "4            4    56.085051  neutral  rgb(0, 0, 0)"
      ]
     },
     "execution_count": 128,
     "metadata": {},
     "output_type": "execute_result"
    }
   ],
   "source": [
    "# # all-in-one\n",
    "# new_reaction_df= new_reaction_df.groupby('time_second', as_index=False)['graph_tense'].mean()\n",
    "# new_reaction_df.loc[new_reaction_df[(new_reaction_df['graph_tense'] < 33)].index, 'reaction'] = 'angry'\n",
    "# new_reaction_df.loc[new_reaction_df[(new_reaction_df['graph_tense'] >= 33) & (new_reaction_df['graph_tense'] < 66)].index, 'reaction'] = 'neutral'\n",
    "# new_reaction_df.loc[new_reaction_df[(new_reaction_df['graph_tense'] >= 66)].index, 'reaction'] = 'happy'\n",
    "# new_reaction_df['color'] = 'rgb(0, 0, 0)'\n",
    "# new_reaction_df.head()"
   ]
  },
  {
   "cell_type": "code",
   "execution_count": 155,
   "metadata": {},
   "outputs": [
    {
     "data": {
      "text/plain": [
       "'file://C:\\\\Users\\\\ndmel\\\\Desktop\\\\funanalytics\\\\Emotion-master\\\\Emotion-master\\\\graphs\\\\background.html'"
      ]
     },
     "execution_count": 155,
     "metadata": {},
     "output_type": "execute_result"
    }
   ],
   "source": [
    "x = sorted(new_reaction_df.time_second.unique())\n",
    "y4 = [0 for x in range(frame_df.shape[0])]\n",
    "y1 = [33 for x in range(frame_df.shape[0])]\n",
    "y2 = [66 for x in range(frame_df.shape[0])]\n",
    "y3 = [100 for x in range(frame_df.shape[0])]\n",
    "\n",
    "trace1 = go.Scatter(\n",
    "    x=x,\n",
    "    y=y1,\n",
    "    fill='tozeroy',\n",
    "    line=dict(\n",
    "        width=0.5,\n",
    "        color='rgb(230,184,175)',\n",
    "    )\n",
    ")\n",
    "trace2 = go.Scatter(\n",
    "    x=x,\n",
    "    y=y2,\n",
    "    fill='tonexty',\n",
    "    opacity=0.5,\n",
    "    line = dict(\n",
    "        width=0.5,\n",
    "        color='rgb(255,242,204)'\n",
    "    )\n",
    ")\n",
    "trace3 = go.Scatter(\n",
    "    x=x,\n",
    "    y=y3,\n",
    "    fill='tonexty',\n",
    "    opacity=0.5,\n",
    "    line=dict(\n",
    "        width=0.5,\n",
    "        color='rgb(182,215,168)',\n",
    "    )\n",
    ")\n",
    "trace4 = go.Scatter(\n",
    "    x=x,\n",
    "    y=y4,\n",
    "    fill='tonexty',\n",
    "    opacity=0.5,\n",
    "    line=dict(\n",
    "        width=0.5,\n",
    "        color='rgb(230,184,175)',\n",
    "    )\n",
    "\n",
    ")\n",
    "data = [trace4, trace1, trace2, trace3]\n",
    "\n",
    "for id_f, frame_df in new_reaction_df.groupby(['gender']):\n",
    "    \n",
    "    trace = go.Scatter(\n",
    "        x = frame_df.time_second.values,\n",
    "        y = frame_df.graph_tense.values,\n",
    "#         mode = 'lines+markers',\n",
    "        line=dict(\n",
    "            width=3,\n",
    "            color=frame_df.color.values[0],\n",
    "        )\n",
    "    )\n",
    "    \n",
    "    data.append(trace)\n",
    "\n",
    "# trace = go.Scatter(\n",
    "#         x = new_reaction_df.time_second.values,\n",
    "#         y = new_reaction_df.graph_tense.values,\n",
    "#         line=dict(\n",
    "#             width=3,\n",
    "#             color=new_reaction_df.color.values[0],\n",
    "#         )\n",
    "#     )\n",
    "    \n",
    "# data.append(trace)\n",
    "    \n",
    "layout = go.Layout(\n",
    "    showlegend=False,\n",
    "    yaxis=dict(\n",
    "        type='linear',\n",
    "        range=[0, 100],\n",
    "    )\n",
    ") \n",
    "\n",
    "fig = go.Figure(data=data, layout=layout)\n",
    "plot(fig, image='png', image_filename='background', filename='graphs/background.html')"
   ]
  },
  {
   "cell_type": "markdown",
   "metadata": {},
   "source": [
    "# Save series of images"
   ]
  },
  {
   "cell_type": "code",
   "execution_count": 156,
   "metadata": {},
   "outputs": [],
   "source": [
    "# settings\n",
    "x = sorted(reaction_df_sec.time_second.unique())\n",
    "for first_second in range(1, reaction_df_sec.time_second.max() + 1):\n",
    "    \n",
    "    filename = 'frame_%s' % str(first_second)\n",
    "    \n",
    "    # singe frame\n",
    "    new_reaction_df = pd.DataFrame()\n",
    "    for id_f, frame_df in reaction_df.groupby(['id']):\n",
    "        frame_df = frame_df[:first_second].copy()\n",
    "        frame_df['graph_tense'] = frame_df['reaction_tense']\n",
    "        frame_df.loc[frame_df[frame_df.reaction == 'surprise'].index, 'reaction'] = 'neutral'\n",
    "        frame_df.loc[frame_df[frame_df.reaction == 'sad'].index, 'reaction'] = 'angry'\n",
    "        frame_df.loc[frame_df[frame_df.reaction == 'happy'].index, 'graph_tense'] = frame_df[frame_df.reaction == 'happy']['graph_tense'] * 33 + 66\n",
    "        frame_df.loc[frame_df[frame_df.reaction == 'neutral'].index, 'graph_tense'] = frame_df[frame_df.reaction == 'neutral']['graph_tense'] * 33 + 33\n",
    "        frame_df.loc[frame_df[frame_df.reaction == 'angry'].index, 'graph_tense'] = frame_df[frame_df.reaction == 'angry']['graph_tense'] * 33\n",
    "\n",
    "        new_reaction_df = new_reaction_df.append(frame_df)\n",
    "        \n",
    "    new_reaction_df['id'] = new_reaction_df['id'].astype('str')\n",
    "    new_reaction_df.reset_index(inplace=True, drop = True)\n",
    "#     new_reaction_df= new_reaction_df.groupby('time_second', as_index=False)['graph_tense'].mean()\n",
    "#     new_reaction_df.loc[new_reaction_df[(new_reaction_df['graph_tense'] < 33)].index, 'reaction'] = 'angry'\n",
    "#     new_reaction_df.loc[new_reaction_df[(new_reaction_df['graph_tense'] >= 33) & (new_reaction_df['graph_tense'] < 66)].index, 'reaction'] = 'neutral'\n",
    "#     new_reaction_df.loc[new_reaction_df[(new_reaction_df['graph_tense'] >= 66)].index, 'reaction'] = 'happy'\n",
    "#     new_reaction_df['color'] = 'rgb(0, 0, 0)'\n",
    "#     new_reaction_df.head()\n",
    "    \n",
    "    \n",
    "    new_reaction_df= new_reaction_df.groupby(['time_second', 'gender'], as_index=False)['graph_tense'].mean()\n",
    "    new_reaction_df.loc[new_reaction_df[(new_reaction_df['graph_tense'] < 33)].index, 'reaction'] = 'angry'\n",
    "    new_reaction_df.loc[new_reaction_df[(new_reaction_df['graph_tense'] >= 33) & (new_reaction_df['graph_tense'] < 66)].index, 'reaction'] = 'neutral'\n",
    "    new_reaction_df.loc[new_reaction_df[(new_reaction_df['graph_tense'] >= 66)].index, 'reaction'] = 'happy'\n",
    "    new_reaction_df.loc[new_reaction_df[new_reaction_df.gender == 'male'].index, 'color'] = 'rgb(17,56,117)'\n",
    "    new_reaction_df.loc[new_reaction_df[new_reaction_df.gender == 'female'].index, 'color'] = 'rgb(166,28,0)'\n",
    "\n",
    "    # plot\n",
    "    y4 = [0 for x in range(len(x))]\n",
    "    y1 = [33 for x in range(len(x))]\n",
    "    y2 = [66 for x in range(len(x))]\n",
    "    y3 = [100 for x in range(len(x))]\n",
    "\n",
    "    trace1 = go.Scatter(\n",
    "        x=x,\n",
    "        y=y1,\n",
    "        fill='tozeroy',\n",
    "        line=dict(\n",
    "            width=0.5,\n",
    "            color='rgb(230,184,175)',\n",
    "        )\n",
    "    )\n",
    "    trace2 = go.Scatter(\n",
    "        x=x,\n",
    "        y=y2,\n",
    "        fill='tonexty',\n",
    "        opacity=0.5,\n",
    "        line = dict(\n",
    "            width=0.5,\n",
    "            color='rgb(255,242,204)'\n",
    "        )\n",
    "    )\n",
    "    trace3 = go.Scatter(\n",
    "        x=x,\n",
    "        y=y3,\n",
    "        fill='tonexty',\n",
    "        opacity=0.5,\n",
    "        line=dict(\n",
    "            width=0.5,\n",
    "            color='rgb(182,215,168)',\n",
    "        )\n",
    "    )\n",
    "    trace4 = go.Scatter(\n",
    "        x=x,\n",
    "        y=y4,\n",
    "        fill='tonexty',\n",
    "        opacity=0.5,\n",
    "        line=dict(\n",
    "            width=0.5,\n",
    "            color='rgb(230,184,175)',\n",
    "        )\n",
    "\n",
    "    )\n",
    "    data = [trace4, trace1, trace2, trace3]\n",
    "    \n",
    "    for id_f, frame_df in new_reaction_df.groupby(['gender']):\n",
    "    \n",
    "        trace = go.Scatter(\n",
    "            x = frame_df.time_second.values,\n",
    "            y = frame_df.graph_tense.values,\n",
    "    #         mode = 'lines+markers',\n",
    "            line=dict(\n",
    "                width=3,\n",
    "                color=frame_df.color.values[0],\n",
    "            )\n",
    "        )\n",
    "\n",
    "        data.append(trace)\n",
    "\n",
    "#     trace = go.Scatter(\n",
    "#         x = new_reaction_df.time_second.values,\n",
    "#         y = new_reaction_df.graph_tense.values,\n",
    "#         line=dict(\n",
    "#             width=3,\n",
    "#             color=new_reaction_df.color.values[0],\n",
    "#         )\n",
    "#     )\n",
    "    \n",
    "#     data.append(trace)\n",
    "\n",
    "    layout = go.Layout(\n",
    "        title='Анализ ролика',\n",
    "        showlegend=False,\n",
    "        xaxis=dict(\n",
    "            title='Секунды',\n",
    "            range=[min(x) - 1, max(x) + 1]\n",
    "        ),\n",
    "        yaxis=dict(\n",
    "            title='Настроениие зрителя',\n",
    "            type='linear',\n",
    "            range=[0, 100],\n",
    "            ticksuffix='%'\n",
    "        ),\n",
    "    ) \n",
    "            \n",
    "    fig = go.Figure(data=data, layout=layout)\n",
    "    plot(fig, image='png', image_filename=filename, filename='graphs/%s.html' % filename)"
   ]
  },
  {
   "cell_type": "code",
   "execution_count": null,
   "metadata": {
    "collapsed": true
   },
   "outputs": [],
   "source": []
  },
  {
   "cell_type": "markdown",
   "metadata": {},
   "source": [
    "# Make gif"
   ]
  },
  {
   "cell_type": "code",
   "execution_count": 211,
   "metadata": {
    "collapsed": true,
    "scrolled": true
   },
   "outputs": [],
   "source": [
    "# images = []\n",
    "# for filename in os.listdir('./gif_graphs/'):\n",
    "#     images.append(imageio.imread(os.getcwd() + '\\\\gif_graphs\\\\' + filename))\n",
    "# imageio.mimsave('result.gif', images)    "
   ]
  },
  {
   "cell_type": "code",
   "execution_count": null,
   "metadata": {
    "collapsed": true
   },
   "outputs": [],
   "source": []
  }
 ],
 "metadata": {
  "kernelspec": {
   "display_name": "Python 3",
   "language": "python",
   "name": "python3"
  },
  "language_info": {
   "codemirror_mode": {
    "name": "ipython",
    "version": 3
   },
   "file_extension": ".py",
   "mimetype": "text/x-python",
   "name": "python",
   "nbconvert_exporter": "python",
   "pygments_lexer": "ipython3",
   "version": "3.6.2"
  }
 },
 "nbformat": 4,
 "nbformat_minor": 2
}
